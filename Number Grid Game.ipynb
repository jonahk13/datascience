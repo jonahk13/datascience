{
 "cells": [
  {
   "cell_type": "code",
   "execution_count": 26,
   "metadata": {},
   "outputs": [
    {
     "name": "stdout",
     "output_type": "stream",
     "text": [
      "Collecting git+git://github.com/ntasfi/PyGame-Learning-Environment\n",
      "  Cloning git://github.com/ntasfi/PyGame-Learning-Environment to /tmp/pip-req-build-nI0moZ\n",
      "Requirement already satisfied: numpy in /usr/local/envs/py2env/lib/python2.7/site-packages (from ple==0.0.1) (1.14.0)\n",
      "Requirement already satisfied: Pillow in /usr/local/envs/py2env/lib/python2.7/site-packages (from ple==0.0.1) (3.4.1)\n",
      "Building wheels for collected packages: ple\n",
      "  Running setup.py bdist_wheel for ple ... \u001b[?25ldone\n",
      "\u001b[?25h  Stored in directory: /tmp/pip-ephem-wheel-cache-nCsphC/wheels/8f/6e/f0/0a801338298bf0f9f02690dafc46c0a91b2573330899914ea2\n",
      "Successfully built ple\n",
      "Installing collected packages: ple\n",
      "Successfully installed ple-0.0.1\n"
     ]
    }
   ],
   "source": [
    "!pip install git+git://github.com/ntasfi/PyGame-Learning-Environment"
   ]
  },
  {
   "cell_type": "code",
   "execution_count": 22,
   "metadata": {},
   "outputs": [
    {
     "name": "stdout",
     "output_type": "stream",
     "text": [
      "Requirement already satisfied: pygame in /usr/local/envs/py2env/lib/python2.7/site-packages (1.9.6)\n",
      "Requirement already satisfied: gym_ple in /usr/local/envs/py2env/lib/python2.7/site-packages (0.3)\n",
      "Requirement already satisfied: pandas in /usr/local/envs/py2env/lib/python2.7/site-packages (0.22.0)\n",
      "Requirement already satisfied: python-dateutil in /usr/local/envs/py2env/lib/python2.7/site-packages (from pandas) (2.5.0)\n",
      "Requirement already satisfied: pytz>=2011k in /usr/local/envs/py2env/lib/python2.7/site-packages (from pandas) (2018.4)\n",
      "Requirement already satisfied: numpy>=1.9.0 in /usr/local/envs/py2env/lib/python2.7/site-packages (from pandas) (1.14.0)\n",
      "Requirement already satisfied: six>=1.5 in /usr/local/envs/py2env/lib/python2.7/site-packages (from python-dateutil->pandas) (1.10.0)\n"
     ]
    }
   ],
   "source": [
    "!pip install pygame"
   ]
  },
  {
   "cell_type": "code",
   "execution_count": 1,
   "metadata": {},
   "outputs": [
    {
     "name": "stdout",
     "output_type": "stream",
     "text": [
      "pygame 1.9.6\n",
      "Hello from the pygame community. https://www.pygame.org/contribute.html\n",
      "couldn't import doomish\n",
      "Couldn't import doom\n"
     ]
    }
   ],
   "source": [
    "import pygame \n",
    "import numpy as np\n",
    "import pandas as pd\n",
    "import os\n",
    "os.environ[\"SDL_VIDEODRIVER\"] = \"dummy\"\n",
    "from ple import PLE\n",
    "from IPython.display import display, Image"
   ]
  },
  {
   "cell_type": "code",
   "execution_count": 3,
   "metadata": {},
   "outputs": [
    {
     "data": {
      "text/plain": [
       "None"
      ]
     },
     "metadata": {},
     "output_type": "display_data"
    }
   ],
   "source": [
    "background_colour = (255,255,255)\n",
    "(width, height) = (600, 400)\n",
    "screen = pygame.display.set_mode((width, height))\n",
    "screen.fill(background_colour)\n",
    "pygame.display.flip()\n",
    "x = pygame.image.save(screen, 'screen.jpeg')\n",
    "display(x)\n",
    "      "
   ]
  },
  {
   "cell_type": "code",
   "execution_count": null,
   "metadata": {},
   "outputs": [],
   "source": []
  },
  {
   "cell_type": "code",
   "execution_count": 3,
   "metadata": {},
   "outputs": [],
   "source": [
    "g0l = [[0,0,0,0,0,0,0,0,0,0,0,0,0,0,0],\n",
    "       [0,0,0,0,0,0,0,0,0,0,0,0,0,0,0],\n",
    "       [0,0,0,0,0,0,0,0,0,0,0,0,0,0,0],\n",
    "       [0,0,0,0,0,0,0,0,0,0,0,0,0,0,0],\n",
    "       [0,0,0,0,0,0,0,0,0,0,0,0,0,0,0],\n",
    "       [0,0,0,0,0,0,0,0,0,0,0,0,0,0,0],\n",
    "       [0,0,0,0,0,0,0,0,0,0,0,0,0,0,0],\n",
    "       [0,0,0,0,0,0,0,0,0,0,0,0,0,0,0],\n",
    "       [0,0,0,0,0,0,0,0,0,0,0,0,0,0,0],\n",
    "       [0,0,0,0,0,0,0,0,0,0,0,0,0,0,0],\n",
    "       [0,0,0,0,0,0,0,0,0,0,0,0,0,0,0],\n",
    "       [0,0,0,0,0,0,0,0,0,0,0,0,0,0,0],\n",
    "       [0,0,0,0,0,0,0,0,0,0,0,0,0,0,0],\n",
    "       [0,0,0,0,0,0,0,0,0,0,0,0,0,0,0],\n",
    "       [0,0,0,0,0,0,0,0,0,0,0,0,0,0,0]]\n",
    "g0 = np.array(g0l)\n",
    "g1l = [[0,0,0,1,1,1,0,0,0,0,0,0,0,0,0],\n",
    "       [0,0,0,1,1,1,0,0,0,0,0,0,0,0,0],\n",
    "       [0,0,0,1,1,1,0,0,0,0,0,0,0,0,0],\n",
    "       [0,1,1,1,1,1,0,0,0,0,0,0,0,0,0],\n",
    "       [1,1,1,1,1,1,1,0,0,0,0,0,0,0,0],\n",
    "       [1,1,1,1,1,1,1,1,0,0,0,0,0,0,0],\n",
    "       [1,1,1,1,1,1,1,1,0,0,0,0,0,0,0],\n",
    "       [0,1,1,1,1,0,1,1,1,1,1,0,0,0,0],\n",
    "       [0,1,1,1,1,0,0,1,1,1,1,1,1,1,0],\n",
    "       [0,1,1,1,1,0,0,1,1,1,1,1,1,1,1],\n",
    "       [0,1,1,1,1,0,1,1,1,1,1,1,1,1,1],\n",
    "       [0,0,1,1,1,0,1,1,1,1,1,1,1,1,1],\n",
    "       [0,0,1,1,1,0,1,1,1,1,1,1,1,1,1],\n",
    "       [0,0,1,1,1,0,0,1,1,1,1,1,1,1,0],\n",
    "       [0,0,1,1,1,1,0,1,1,1,1,1,1,0,0]]\n",
    "g1 = np.array(g1l)\n",
    "g2l = [[0,1,0,0,0,0,1,1,1,1,1,1,1,1,0],\n",
    "       [0,1,0,0,0,1,0,0,0,0,1,1,0,0,1],\n",
    "       [1,1,1,1,1,1,1,1,1,1,1,1,1,1,1],\n",
    "       [0,0,0,0,0,1,1,1,1,1,1,1,1,1,1],\n",
    "       [0,0,0,0,0,1,0,0,0,0,1,1,0,0,1],\n",
    "       [1,1,1,1,1,1,0,0,0,0,1,1,0,0,1],\n",
    "       [0,1,0,0,0,1,1,1,1,1,1,1,1,1,1],\n",
    "       [0,1,0,0,0,1,0,0,0,0,1,1,0,0,1],\n",
    "       [1,1,1,1,1,1,0,0,0,0,1,1,0,0,1],\n",
    "       [0,0,0,0,0,1,1,1,1,1,1,1,1,1,1],\n",
    "       [0,0,0,0,0,1,0,0,0,0,1,1,0,0,1],\n",
    "       [1,1,1,1,1,1,0,0,0,0,1,1,0,1,1],\n",
    "       [0,1,0,0,0,1,1,1,1,1,1,1,1,1,1],\n",
    "       [0,1,0,1,1,1,1,1,1,1,1,1,1,1,1],\n",
    "       [1,1,1,1,1,1,1,1,1,1,1,1,1,1,1]]\n",
    "g2 = np.array(g2l)\n",
    "g3l = [[0,0,0,0,0,0,0,1,0,0,0,0,0,0,0],\n",
    "       [0,0,0,0,0,0,1,1,1,0,0,0,0,0,0],\n",
    "       [0,0,0,0,0,0,1,1,1,0,0,0,0,0,0],\n",
    "       [0,0,0,0,0,0,1,1,1,0,0,0,0,0,0],\n",
    "       [0,0,0,0,0,0,1,1,1,0,0,0,0,0,0],\n",
    "       [0,0,0,0,0,0,1,1,1,0,0,0,0,0,0],\n",
    "       [0,0,0,0,0,1,1,1,1,1,0,0,0,0,0],\n",
    "       [0,0,0,0,0,1,0,0,1,1,0,0,0,0,0],\n",
    "       [0,0,0,0,1,1,1,1,1,1,1,0,0,0,0],\n",
    "       [0,0,0,0,1,1,0,0,0,1,1,0,0,0,0],\n",
    "       [0,0,0,1,1,1,1,1,1,1,1,1,0,0,0],\n",
    "       [0,0,1,1,1,1,1,1,1,1,1,1,1,0,0],\n",
    "       [1,1,1,0,1,1,0,0,0,1,1,0,1,1,1],\n",
    "       [1,1,1,1,1,0,1,1,1,0,1,1,1,1,1],\n",
    "       [1,1,1,1,1,1,0,0,0,1,1,1,1,1,1]]\n",
    "g3 = np.array(g3l)\n",
    "g4l = [[0,0,0,0,0,0,0,0,0,0,0,1,0,0,0],\n",
    "       [0,0,0,0,0,0,0,0,0,0,1,1,1,0,0],\n",
    "       [0,0,0,0,0,0,0,0,0,0,1,1,1,0,0],\n",
    "       [0,0,0,0,0,0,0,0,0,1,1,1,1,1,0],\n",
    "       [0,0,0,0,0,0,0,0,1,1,1,1,1,1,1],\n",
    "       [0,0,0,0,0,0,0,0,1,1,1,1,1,1,1],\n",
    "       [0,0,0,0,0,0,0,1,1,1,1,1,1,1,1],\n",
    "       [0,0,0,0,0,0,0,1,1,0,0,1,1,1,1],\n",
    "       [1,0,1,0,0,0,0,1,1,0,0,0,1,1,0],\n",
    "       [1,0,1,0,0,0,0,1,1,0,0,0,1,1,0],\n",
    "       [1,0,1,0,0,0,0,1,1,1,1,1,1,1,1],\n",
    "       [1,1,1,0,0,0,0,0,1,0,1,0,1,1,1],\n",
    "       [1,1,1,0,0,0,0,0,1,0,1,0,1,1,1],\n",
    "       [1,1,1,0,1,0,1,0,1,0,1,0,1,1,1],\n",
    "       [1,1,1,1,1,1,1,1,1,1,1,1,1,1,1]]\n",
    "g4 = np.array(g4l)\n",
    "g5l = [[1,1,1,1,1,1,0,0,0,1,1,1,1,1,1],\n",
    "       [1,1,1,1,1,1,1,0,1,1,1,1,1,1,1],\n",
    "       [1,1,1,1,1,1,0,0,0,1,1,1,1,1,1],\n",
    "       [0,0,1,1,1,0,1,1,1,0,1,1,1,0,0],\n",
    "       [0,0,0,0,0,1,0,0,0,1,0,0,0,0,0],\n",
    "       [1,1,0,1,1,0,0,0,0,0,1,1,0,1,1],\n",
    "       [1,1,1,0,0,0,1,1,1,0,0,0,1,1,1],\n",
    "       [1,1,1,1,0,0,1,1,1,0,0,1,1,1,1],\n",
    "       [1,1,1,0,0,0,1,1,1,0,0,0,1,1,1],\n",
    "       [1,1,0,1,1,0,0,0,0,0,1,1,0,1,1],\n",
    "       [0,0,0,0,0,1,0,0,0,1,0,0,0,0,0],\n",
    "       [0,0,1,1,1,0,1,1,1,0,1,1,1,0,0],\n",
    "       [1,1,1,1,1,1,0,0,0,1,1,1,1,1,1],\n",
    "       [1,1,1,1,1,1,1,0,1,1,1,1,1,1,1],\n",
    "       [1,1,1,1,1,1,0,0,0,1,1,1,1,1,1]]\n",
    "g5 = np.array(g5l)\n"
   ]
  },
  {
   "cell_type": "code",
   "execution_count": null,
   "metadata": {},
   "outputs": [],
   "source": []
  }
 ],
 "metadata": {
  "kernelspec": {
   "display_name": "Python 2",
   "language": "python",
   "name": "python2"
  },
  "language_info": {
   "codemirror_mode": {
    "name": "ipython",
    "version": 2
   },
   "file_extension": ".py",
   "mimetype": "text/x-python",
   "name": "python",
   "nbconvert_exporter": "python",
   "pygments_lexer": "ipython2",
   "version": "2.7.15"
  }
 },
 "nbformat": 4,
 "nbformat_minor": 2
}
